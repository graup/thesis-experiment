{
 "cells": [
  {
   "cell_type": "code",
   "execution_count": 2,
   "metadata": {
    "collapsed": true
   },
   "outputs": [],
   "source": [
    "import choix\n",
    "import networkx as nx\n",
    "import numpy as np\n",
    "import matplotlib as plt\n",
    "\n",
    "%matplotlib notebook\n",
    "%matplotlib notebook\n",
    "np.set_printoptions(precision=3, suppress=True)"
   ]
  },
  {
   "cell_type": "code",
   "execution_count": 7,
   "metadata": {},
   "outputs": [
    {
     "data": {
      "text/plain": [
       "array([ 0.583,  0.194, -0.   , -0.194, -0.583])"
      ]
     },
     "execution_count": 7,
     "metadata": {},
     "output_type": "execute_result"
    }
   ],
   "source": [
    "%matplotlib notebook\n",
    "n_items = 5\n",
    "comps = [\n",
    "    (1, 0), (0, 4), (3, 1),\n",
    "    (0, 2), (2, 4), (4, 3),\n",
    "]\n",
    "params = choix.ilsr_pairwise(n_items, comps)\n",
    "params"
   ]
  },
  {
   "cell_type": "code",
   "execution_count": 18,
   "metadata": {},
   "outputs": [
    {
     "name": "stdout",
     "output_type": "stream",
     "text": [
      "Winner BL A > C False\n",
      "Winner BL A > C False\n",
      "Winner C A > C True\n",
      "Winner BL A > C True\n",
      "Winner A A > C False\n",
      "Winner C A > C True\n",
      "Winner BL A > C False\n",
      "Winner C A > C True\n",
      "Winner I A > C False\n",
      "Winner AA A > C False\n",
      "Winner BL A > C True\n",
      "Winner BL A > C False\n",
      "Winner BL A > C False\n",
      "Winner C A > C True\n",
      "Winner RR A > C False\n",
      "Winner RR A > C False\n",
      "Winner CC A > C False\n",
      "Winner C A > C True\n",
      "Winner BL A > C True\n",
      "Winner A A > C False\n",
      "Winner BL A > C True\n",
      "Winner C A > C True\n",
      "Winner BL A > C False\n",
      "Winner I A > C False\n",
      "Winner AA A > C True\n",
      "Winner I A > C True\n",
      "Winner AA A > C True\n",
      "Winner I A > C False\n",
      "Winner CC A > C True\n",
      "Winner I A > C False\n",
      "Winner BL A > C False\n",
      "Winner BL A > C False\n",
      "Winner BL A > C False\n",
      "Winner BL A > C True\n",
      "Winner RR A > C False\n",
      "Winner BL A > C False\n",
      "Winner RR A > C True\n",
      "Winner C A > C True\n",
      "Winner I A > C False\n",
      "Winner BL A > C True\n",
      "Winner BL A > C False\n",
      "Winner C A > C True\n",
      "Winner A A > C False\n",
      "Winner AA A > C False\n",
      "Winner BL A > C False\n",
      "Winner BL A > C False\n",
      "Winner I A > C False\n",
      "Winner CC A > C True\n",
      "Winner BL A > C False\n",
      "Winner BL A > C False\n",
      "Winner BL A > C False\n",
      "Winner A A > C False\n",
      "Winner BL A > C True\n",
      "Winner BL A > C True\n",
      "Winner A A > C False\n",
      "Winner I A > C True\n",
      "Winner I A > C False\n",
      "Winner I A > C False\n",
      "Winner BL A > C False\n",
      "Winner BL A > C False\n",
      "Winner BL A > C True\n",
      "Winner I A > C True\n",
      "Winner I A > C False\n",
      "Winner I A > C False\n",
      "Winner BL A > C False\n",
      "Winner BL A > C False\n",
      "Winner I A > C False\n",
      "Winner BL A > C False\n",
      "Winner I A > C False\n",
      "Winner I A > C True\n",
      "Winner C A > C True\n",
      "Winner I A > C False\n",
      "Winner A A > C False\n",
      "Winner RR A > C False\n",
      "Winner RR A > C True\n",
      "Winner BL A > C True\n",
      "Winner RR A > C False\n",
      "Winner I A > C True\n",
      "Winner BL A > C False\n",
      "Winner I A > C False\n",
      "Winner BL A > C False\n",
      "Winner C A > C True\n",
      "Winner A A > C False\n",
      "Winner A A > C False\n",
      "Winner C A > C True\n",
      "Winner BL A > C False\n",
      "Winner AA A > C True\n",
      "Winner RR A > C False\n",
      "Winner C A > C True\n",
      "Winner I A > C True\n",
      "Winner I A > C False\n",
      "Winner BL A > C False\n",
      "Winner BL A > C False\n",
      "Winner CC A > C False\n",
      "Winner I A > C True\n",
      "Winner CC A > C False\n",
      "Winner BL A > C False\n",
      "Winner BL A > C False\n",
      "Winner BL A > C False\n"
     ]
    },
    {
     "data": {
      "text/plain": [
       "Counter({False: 63, True: 36})"
      ]
     },
     "execution_count": 18,
     "metadata": {},
     "output_type": "execute_result"
    }
   ],
   "source": [
    "import glob, os, json\n",
    "from collections import Counter\n",
    "items = ('AA', 'RR', 'CC', 'A', 'I', 'C', 'BL')\n",
    "n_items = len(items)\n",
    "prefs_A_C = []\n",
    "for filename in glob.glob(\"data/*.json\"):\n",
    "    with open(filename) as data_file:    \n",
    "        data = json.load(data_file)\n",
    "        comps = []\n",
    "        if not 'comparisons' in data:\n",
    "            continue\n",
    "        for pair, winner in data['comparisons'].items():\n",
    "            pair_items = pair.split('_')\n",
    "            if pair_items[0] == 'check':\n",
    "                continue\n",
    "            other = pair_items[0] if pair_items[1] == winner else pair_items[1]\n",
    "            comps.append((items.index(winner), items.index(other)))\n",
    "        #print(comps)\n",
    "        params = choix.ilsr_pairwise(n_items, comps, alpha=1e-5)\n",
    "        pref_A_C = params[items.index('A')] > params[items.index('C')]\n",
    "        #print(params)\n",
    "        ranking = np.argsort(params)\n",
    "        print('Winner', items[ranking[0]], 'A > C', pref_A_C)\n",
    "        prefs_A_C.append(pref_A_C)\n",
    "Counter(prefs_A_C)"
   ]
  }
 ],
 "metadata": {
  "kernelspec": {
   "display_name": "Python 3",
   "language": "python",
   "name": "python3"
  },
  "language_info": {
   "codemirror_mode": {
    "name": "ipython",
    "version": 3
   },
   "file_extension": ".py",
   "mimetype": "text/x-python",
   "name": "python",
   "nbconvert_exporter": "python",
   "pygments_lexer": "ipython3",
   "version": "3.4.3"
  }
 },
 "nbformat": 4,
 "nbformat_minor": 2
}
